{
 "cells": [
  {
   "cell_type": "markdown",
   "metadata": {
    "id": "CcUT6Fon_qRE"
   },
   "source": [
    "### Required Assignment 5.1: Will the Customer Accept the Coupon?\n",
    "\n",
    "**Context**\n",
    "\n",
    "Imagine driving through town and a coupon is delivered to your cell phone for a restaurant near where you are driving. Would you accept that coupon and take a short detour to the restaurant? Would you accept the coupon but use it on a subsequent trip? Would you ignore the coupon entirely? What if the coupon was for a bar instead of a restaurant? What about a coffee house? Would you accept a bar coupon with a minor passenger in the car? What about if it was just you and your partner in the car? Would weather impact the rate of acceptance? What about the time of day?\n",
    "\n",
    "Obviously, proximity to the business is a factor on whether the coupon is delivered to the driver or not, but what are the factors that determine whether a driver accepts the coupon once it is delivered to them? How would you determine whether a driver is likely to accept a coupon?\n",
    "\n",
    "**Overview**\n",
    "\n",
    "The goal of this project is to use what you know about visualizations and probability distributions to distinguish between customers who accepted a driving coupon versus those that did not.\n",
    "\n",
    "**Data**\n",
    "\n",
    "This data comes to us from the UCI Machine Learning repository and was collected via a survey on Amazon Mechanical Turk. The survey describes different driving scenarios including the destination, current time, weather, passenger, etc., and then ask the person whether he will accept the coupon if he is the driver. Answers that the user will drive there ‘right away’ or ‘later before the coupon expires’ are labeled as ‘Y = 1’ and answers ‘no, I do not want the coupon’ are labeled as ‘Y = 0’.  There are five different types of coupons -- less expensive restaurants (under \\$20), coffee houses, carry out & take away, bar, and more expensive restaurants (\\$20 - $50)."
   ]
  },
  {
   "cell_type": "markdown",
   "metadata": {
    "id": "1wORvMBJ_qRF"
   },
   "source": [
    "**Deliverables**\n",
    "\n",
    "Your final product should be a brief report that highlights the differences between customers who did and did not accept the coupons.  To explore the data you will utilize your knowledge of plotting, statistical summaries, and visualization using Python. You will publish your findings in a public facing github repository as your first portfolio piece.\n",
    "\n",
    "\n",
    "\n"
   ]
  },
  {
   "cell_type": "markdown",
   "metadata": {
    "id": "pG6_Ym6q_qRG"
   },
   "source": [
    "### Data Description\n",
    "Keep in mind that these values mentioned below are average values.\n",
    "\n",
    "The attributes of this data set include:\n",
    "1. User attributes\n",
    "    -  Gender: male, female\n",
    "    -  Age: below 21, 21 to 25, 26 to 30, etc.\n",
    "    -  Marital Status: single, married partner, unmarried partner, or widowed\n",
    "    -  Number of children: 0, 1, or more than 1\n",
    "    -  Education: high school, bachelors degree, associates degree, or graduate degree\n",
    "    -  Occupation: architecture & engineering, business & financial, etc.\n",
    "    -  Annual income: less than \\\\$12500, \\\\$12500 - \\\\$24999, \\\\$25000 - \\\\$37499, etc.\n",
    "    -  Number of times that he/she goes to a bar: 0, less than 1, 1 to 3, 4 to 8 or greater than 8\n",
    "    -  Number of times that he/she buys takeaway food: 0, less than 1, 1 to 3, 4 to 8 or greater\n",
    "    than 8\n",
    "    -  Number of times that he/she goes to a coffee house: 0, less than 1, 1 to 3, 4 to 8 or\n",
    "    greater than 8\n",
    "    -  Number of times that he/she eats at a restaurant with average expense less than \\\\$20 per\n",
    "    person: 0, less than 1, 1 to 3, 4 to 8 or greater than 8\n",
    "    -  Number of times that he/she goes to a bar: 0, less than 1, 1 to 3, 4 to 8 or greater than 8\n",
    "    \n",
    "\n",
    "2. Contextual attributes\n",
    "    - Driving destination: home, work, or no urgent destination\n",
    "    - Location of user, coupon and destination: we provide a map to show the geographical\n",
    "    location of the user, destination, and the venue, and we mark the distance between each\n",
    "    two places with time of driving. The user can see whether the venue is in the same\n",
    "    direction as the destination.\n",
    "    - Weather: sunny, rainy, or snowy\n",
    "    - Temperature: 30F, 55F, or 80F\n",
    "    - Time: 10AM, 2PM, or 6PM\n",
    "    - Passenger: alone, partner, kid(s), or friend(s)\n",
    "\n",
    "\n",
    "3. Coupon attributes\n",
    "    - time before it expires: 2 hours or one day"
   ]
  },
  {
   "cell_type": "code",
   "execution_count": 173,
   "metadata": {
    "id": "dzNoP3o__qRG"
   },
   "outputs": [],
   "source": [
    "import matplotlib.pyplot as plt\n",
    "import seaborn as sns\n",
    "import pandas as pd\n",
    "import numpy as np"
   ]
  },
  {
   "cell_type": "markdown",
   "metadata": {
    "id": "Ct8pI1uE_qRG"
   },
   "source": [
    "### Problems\n",
    "\n",
    "Use the prompts below to get started with your data analysis.  \n",
    "\n",
    "1. Read in the `coupons.csv` file.\n",
    "\n",
    "\n"
   ]
  },
  {
   "cell_type": "code",
   "execution_count": 174,
   "metadata": {
    "id": "X0vbffYg_qRH"
   },
   "outputs": [],
   "source": [
    "data = pd.read_csv('data/coupons.csv')"
   ]
  },
  {
   "cell_type": "code",
   "execution_count": 175,
   "metadata": {
    "id": "TXofQ_DF_qRH",
    "outputId": "2fc96a2c-1112-4b54-f24f-dbb9bc88abfb"
   },
   "outputs": [
    {
     "name": "stdout",
     "output_type": "stream",
     "text": [
      "<class 'pandas.core.frame.DataFrame'>\n",
      "RangeIndex: 12684 entries, 0 to 12683\n",
      "Data columns (total 26 columns):\n",
      " #   Column                Non-Null Count  Dtype \n",
      "---  ------                --------------  ----- \n",
      " 0   destination           12684 non-null  object\n",
      " 1   passanger             12684 non-null  object\n",
      " 2   weather               12684 non-null  object\n",
      " 3   temperature           12684 non-null  int64 \n",
      " 4   time                  12684 non-null  object\n",
      " 5   coupon                12684 non-null  object\n",
      " 6   expiration            12684 non-null  object\n",
      " 7   gender                12684 non-null  object\n",
      " 8   age                   12684 non-null  object\n",
      " 9   maritalStatus         12684 non-null  object\n",
      " 10  has_children          12684 non-null  int64 \n",
      " 11  education             12684 non-null  object\n",
      " 12  occupation            12684 non-null  object\n",
      " 13  income                12684 non-null  object\n",
      " 14  car                   108 non-null    object\n",
      " 15  Bar                   12577 non-null  object\n",
      " 16  CoffeeHouse           12467 non-null  object\n",
      " 17  CarryAway             12533 non-null  object\n",
      " 18  RestaurantLessThan20  12554 non-null  object\n",
      " 19  Restaurant20To50      12495 non-null  object\n",
      " 20  toCoupon_GEQ5min      12684 non-null  int64 \n",
      " 21  toCoupon_GEQ15min     12684 non-null  int64 \n",
      " 22  toCoupon_GEQ25min     12684 non-null  int64 \n",
      " 23  direction_same        12684 non-null  int64 \n",
      " 24  direction_opp         12684 non-null  int64 \n",
      " 25  Y                     12684 non-null  int64 \n",
      "dtypes: int64(8), object(18)\n",
      "memory usage: 2.5+ MB\n"
     ]
    }
   ],
   "source": [
    "data.head()\n",
    "data.info()"
   ]
  },
  {
   "cell_type": "markdown",
   "metadata": {
    "id": "GcDs78ZH_qRH"
   },
   "source": [
    "2. Investigate the dataset for missing or problematic data."
   ]
  },
  {
   "cell_type": "code",
   "execution_count": 176,
   "metadata": {
    "id": "6CwL6oWj_qRH"
   },
   "outputs": [
    {
     "data": {
      "text/plain": [
       "destination                 0\n",
       "passanger                   0\n",
       "weather                     0\n",
       "temperature                 0\n",
       "time                        0\n",
       "coupon                      0\n",
       "expiration                  0\n",
       "gender                      0\n",
       "age                         0\n",
       "maritalStatus               0\n",
       "has_children                0\n",
       "education                   0\n",
       "occupation                  0\n",
       "income                      0\n",
       "car                     12576\n",
       "Bar                       107\n",
       "CoffeeHouse               217\n",
       "CarryAway                 151\n",
       "RestaurantLessThan20      130\n",
       "Restaurant20To50          189\n",
       "toCoupon_GEQ5min            0\n",
       "toCoupon_GEQ15min           0\n",
       "toCoupon_GEQ25min           0\n",
       "direction_same              0\n",
       "direction_opp               0\n",
       "Y                           0\n",
       "dtype: int64"
      ]
     },
     "execution_count": 176,
     "metadata": {},
     "output_type": "execute_result"
    }
   ],
   "source": [
    "data.isnull().sum()"
   ]
  },
  {
   "cell_type": "markdown",
   "metadata": {
    "id": "bSdVSpYB_qRH"
   },
   "source": [
    "3. Decide what to do about your missing data -- drop, replace, other..."
   ]
  },
  {
   "cell_type": "markdown",
   "metadata": {},
   "source": [
    "Missing Data: The Car column contains 12,576 missing values out of 12,684 total \n",
    "rows—approximately 99.1% missing. This means only 108 rows have valid entries, making the column extremely sparse. Such limited information is unlikely to add value to the analysis and may introduce noise. Therefore, this column can be safely dropped.\n",
    "Other columns with missing values include:\n",
    "\n",
    "Bar: 107 missing\n",
    "\n",
    "CoffeeHouse: 217 missing\n",
    "\n",
    "CarryAway: 151 missing\n",
    "\n",
    "RestaurantLessThan20: 130 missing\n",
    "\n",
    "Restaurant20To50: 189 missing\n",
    "\n",
    "Each of these represents less than 2% missing data, which is typically acceptable.\n",
    "In cases where missing values cannot be reliably imputed and account for less than 5% \n",
    "of the data, it is generally safe to ignore them in the analysis."
   ]
  },
  {
   "cell_type": "code",
   "execution_count": 186,
   "metadata": {},
   "outputs": [
    {
     "data": {
      "text/plain": [
       "74"
      ]
     },
     "execution_count": 186,
     "metadata": {},
     "output_type": "execute_result"
    }
   ],
   "source": [
    "data.duplicated().sum()\n"
   ]
  },
  {
   "cell_type": "code",
   "execution_count": 193,
   "metadata": {},
   "outputs": [
    {
     "data": {
      "text/html": [
       "<div>\n",
       "<style scoped>\n",
       "    .dataframe tbody tr th:only-of-type {\n",
       "        vertical-align: middle;\n",
       "    }\n",
       "\n",
       "    .dataframe tbody tr th {\n",
       "        vertical-align: top;\n",
       "    }\n",
       "\n",
       "    .dataframe thead th {\n",
       "        text-align: right;\n",
       "    }\n",
       "</style>\n",
       "<table border=\"1\" class=\"dataframe\">\n",
       "  <thead>\n",
       "    <tr style=\"text-align: right;\">\n",
       "      <th></th>\n",
       "      <th>destination</th>\n",
       "      <th>passanger</th>\n",
       "      <th>weather</th>\n",
       "      <th>temperature</th>\n",
       "      <th>time</th>\n",
       "      <th>coupon</th>\n",
       "      <th>expiration</th>\n",
       "      <th>gender</th>\n",
       "      <th>age</th>\n",
       "      <th>maritalStatus</th>\n",
       "      <th>has_children</th>\n",
       "      <th>education</th>\n",
       "      <th>occupation</th>\n",
       "      <th>income</th>\n",
       "      <th>car</th>\n",
       "      <th>Bar</th>\n",
       "      <th>CoffeeHouse</th>\n",
       "      <th>CarryAway</th>\n",
       "      <th>RestaurantLessThan20</th>\n",
       "      <th>Restaurant20To50</th>\n",
       "      <th>toCoupon_GEQ5min</th>\n",
       "      <th>toCoupon_GEQ15min</th>\n",
       "      <th>toCoupon_GEQ25min</th>\n",
       "      <th>direction_same</th>\n",
       "      <th>direction_opp</th>\n",
       "      <th>Y</th>\n",
       "    </tr>\n",
       "  </thead>\n",
       "  <tbody>\n",
       "    <tr>\n",
       "      <th>4192</th>\n",
       "      <td>Work</td>\n",
       "      <td>Alone</td>\n",
       "      <td>Sunny</td>\n",
       "      <td>80</td>\n",
       "      <td>7AM</td>\n",
       "      <td>Carry out &amp; Take away</td>\n",
       "      <td>1d</td>\n",
       "      <td>Male</td>\n",
       "      <td>26</td>\n",
       "      <td>Single</td>\n",
       "      <td>0</td>\n",
       "      <td>Associates degree</td>\n",
       "      <td>Unemployed</td>\n",
       "      <td>Less than $12500</td>\n",
       "      <td>NaN</td>\n",
       "      <td>less1</td>\n",
       "      <td>never</td>\n",
       "      <td>1~3</td>\n",
       "      <td>less1</td>\n",
       "      <td>less1</td>\n",
       "      <td>1</td>\n",
       "      <td>1</td>\n",
       "      <td>1</td>\n",
       "      <td>0</td>\n",
       "      <td>1</td>\n",
       "      <td>1</td>\n",
       "    </tr>\n",
       "    <tr>\n",
       "      <th>4236</th>\n",
       "      <td>Work</td>\n",
       "      <td>Alone</td>\n",
       "      <td>Sunny</td>\n",
       "      <td>80</td>\n",
       "      <td>7AM</td>\n",
       "      <td>Carry out &amp; Take away</td>\n",
       "      <td>1d</td>\n",
       "      <td>Male</td>\n",
       "      <td>26</td>\n",
       "      <td>Single</td>\n",
       "      <td>0</td>\n",
       "      <td>Graduate degree (Masters or Doctorate)</td>\n",
       "      <td>Management</td>\n",
       "      <td>$25000 - $37499</td>\n",
       "      <td>NaN</td>\n",
       "      <td>4~8</td>\n",
       "      <td>gt8</td>\n",
       "      <td>gt8</td>\n",
       "      <td>4~8</td>\n",
       "      <td>less1</td>\n",
       "      <td>1</td>\n",
       "      <td>1</td>\n",
       "      <td>1</td>\n",
       "      <td>0</td>\n",
       "      <td>1</td>\n",
       "      <td>1</td>\n",
       "    </tr>\n",
       "    <tr>\n",
       "      <th>4280</th>\n",
       "      <td>Work</td>\n",
       "      <td>Alone</td>\n",
       "      <td>Sunny</td>\n",
       "      <td>80</td>\n",
       "      <td>7AM</td>\n",
       "      <td>Carry out &amp; Take away</td>\n",
       "      <td>1d</td>\n",
       "      <td>Female</td>\n",
       "      <td>26</td>\n",
       "      <td>Single</td>\n",
       "      <td>0</td>\n",
       "      <td>Bachelors degree</td>\n",
       "      <td>Education&amp;Training&amp;Library</td>\n",
       "      <td>$50000 - $62499</td>\n",
       "      <td>NaN</td>\n",
       "      <td>1~3</td>\n",
       "      <td>never</td>\n",
       "      <td>4~8</td>\n",
       "      <td>1~3</td>\n",
       "      <td>less1</td>\n",
       "      <td>1</td>\n",
       "      <td>1</td>\n",
       "      <td>1</td>\n",
       "      <td>0</td>\n",
       "      <td>1</td>\n",
       "      <td>1</td>\n",
       "    </tr>\n",
       "    <tr>\n",
       "      <th>4324</th>\n",
       "      <td>Work</td>\n",
       "      <td>Alone</td>\n",
       "      <td>Sunny</td>\n",
       "      <td>80</td>\n",
       "      <td>7AM</td>\n",
       "      <td>Carry out &amp; Take away</td>\n",
       "      <td>1d</td>\n",
       "      <td>Female</td>\n",
       "      <td>46</td>\n",
       "      <td>Single</td>\n",
       "      <td>0</td>\n",
       "      <td>Some college - no degree</td>\n",
       "      <td>Protective Service</td>\n",
       "      <td>$25000 - $37499</td>\n",
       "      <td>NaN</td>\n",
       "      <td>1~3</td>\n",
       "      <td>never</td>\n",
       "      <td>4~8</td>\n",
       "      <td>1~3</td>\n",
       "      <td>1~3</td>\n",
       "      <td>1</td>\n",
       "      <td>1</td>\n",
       "      <td>1</td>\n",
       "      <td>0</td>\n",
       "      <td>1</td>\n",
       "      <td>1</td>\n",
       "    </tr>\n",
       "    <tr>\n",
       "      <th>4409</th>\n",
       "      <td>Work</td>\n",
       "      <td>Alone</td>\n",
       "      <td>Sunny</td>\n",
       "      <td>80</td>\n",
       "      <td>7AM</td>\n",
       "      <td>Carry out &amp; Take away</td>\n",
       "      <td>1d</td>\n",
       "      <td>Female</td>\n",
       "      <td>21</td>\n",
       "      <td>Single</td>\n",
       "      <td>0</td>\n",
       "      <td>Bachelors degree</td>\n",
       "      <td>Life Physical Social Science</td>\n",
       "      <td>$37500 - $49999</td>\n",
       "      <td>NaN</td>\n",
       "      <td>less1</td>\n",
       "      <td>never</td>\n",
       "      <td>less1</td>\n",
       "      <td>1~3</td>\n",
       "      <td>never</td>\n",
       "      <td>1</td>\n",
       "      <td>1</td>\n",
       "      <td>1</td>\n",
       "      <td>0</td>\n",
       "      <td>1</td>\n",
       "      <td>0</td>\n",
       "    </tr>\n",
       "    <tr>\n",
       "      <th>...</th>\n",
       "      <td>...</td>\n",
       "      <td>...</td>\n",
       "      <td>...</td>\n",
       "      <td>...</td>\n",
       "      <td>...</td>\n",
       "      <td>...</td>\n",
       "      <td>...</td>\n",
       "      <td>...</td>\n",
       "      <td>...</td>\n",
       "      <td>...</td>\n",
       "      <td>...</td>\n",
       "      <td>...</td>\n",
       "      <td>...</td>\n",
       "      <td>...</td>\n",
       "      <td>...</td>\n",
       "      <td>...</td>\n",
       "      <td>...</td>\n",
       "      <td>...</td>\n",
       "      <td>...</td>\n",
       "      <td>...</td>\n",
       "      <td>...</td>\n",
       "      <td>...</td>\n",
       "      <td>...</td>\n",
       "      <td>...</td>\n",
       "      <td>...</td>\n",
       "      <td>...</td>\n",
       "    </tr>\n",
       "    <tr>\n",
       "      <th>8511</th>\n",
       "      <td>Home</td>\n",
       "      <td>Alone</td>\n",
       "      <td>Sunny</td>\n",
       "      <td>80</td>\n",
       "      <td>6PM</td>\n",
       "      <td>Bar</td>\n",
       "      <td>2h</td>\n",
       "      <td>Male</td>\n",
       "      <td>46</td>\n",
       "      <td>Married partner</td>\n",
       "      <td>1</td>\n",
       "      <td>Graduate degree (Masters or Doctorate)</td>\n",
       "      <td>Management</td>\n",
       "      <td>$87500 - $99999</td>\n",
       "      <td>NaN</td>\n",
       "      <td>less1</td>\n",
       "      <td>1~3</td>\n",
       "      <td>1~3</td>\n",
       "      <td>less1</td>\n",
       "      <td>1~3</td>\n",
       "      <td>1</td>\n",
       "      <td>0</td>\n",
       "      <td>0</td>\n",
       "      <td>1</td>\n",
       "      <td>0</td>\n",
       "      <td>1</td>\n",
       "    </tr>\n",
       "    <tr>\n",
       "      <th>8512</th>\n",
       "      <td>Home</td>\n",
       "      <td>Partner</td>\n",
       "      <td>Sunny</td>\n",
       "      <td>30</td>\n",
       "      <td>10PM</td>\n",
       "      <td>Carry out &amp; Take away</td>\n",
       "      <td>2h</td>\n",
       "      <td>Male</td>\n",
       "      <td>46</td>\n",
       "      <td>Married partner</td>\n",
       "      <td>1</td>\n",
       "      <td>Graduate degree (Masters or Doctorate)</td>\n",
       "      <td>Management</td>\n",
       "      <td>$87500 - $99999</td>\n",
       "      <td>NaN</td>\n",
       "      <td>less1</td>\n",
       "      <td>1~3</td>\n",
       "      <td>1~3</td>\n",
       "      <td>less1</td>\n",
       "      <td>1~3</td>\n",
       "      <td>1</td>\n",
       "      <td>1</td>\n",
       "      <td>0</td>\n",
       "      <td>0</td>\n",
       "      <td>1</td>\n",
       "      <td>1</td>\n",
       "    </tr>\n",
       "    <tr>\n",
       "      <th>8513</th>\n",
       "      <td>Work</td>\n",
       "      <td>Alone</td>\n",
       "      <td>Rainy</td>\n",
       "      <td>55</td>\n",
       "      <td>7AM</td>\n",
       "      <td>Restaurant(&lt;20)</td>\n",
       "      <td>2h</td>\n",
       "      <td>Male</td>\n",
       "      <td>46</td>\n",
       "      <td>Married partner</td>\n",
       "      <td>1</td>\n",
       "      <td>Graduate degree (Masters or Doctorate)</td>\n",
       "      <td>Management</td>\n",
       "      <td>$87500 - $99999</td>\n",
       "      <td>NaN</td>\n",
       "      <td>less1</td>\n",
       "      <td>1~3</td>\n",
       "      <td>1~3</td>\n",
       "      <td>less1</td>\n",
       "      <td>1~3</td>\n",
       "      <td>1</td>\n",
       "      <td>1</td>\n",
       "      <td>1</td>\n",
       "      <td>0</td>\n",
       "      <td>1</td>\n",
       "      <td>0</td>\n",
       "    </tr>\n",
       "    <tr>\n",
       "      <th>8515</th>\n",
       "      <td>Work</td>\n",
       "      <td>Alone</td>\n",
       "      <td>Snowy</td>\n",
       "      <td>30</td>\n",
       "      <td>7AM</td>\n",
       "      <td>Restaurant(20-50)</td>\n",
       "      <td>1d</td>\n",
       "      <td>Male</td>\n",
       "      <td>46</td>\n",
       "      <td>Married partner</td>\n",
       "      <td>1</td>\n",
       "      <td>Graduate degree (Masters or Doctorate)</td>\n",
       "      <td>Management</td>\n",
       "      <td>$87500 - $99999</td>\n",
       "      <td>NaN</td>\n",
       "      <td>less1</td>\n",
       "      <td>1~3</td>\n",
       "      <td>1~3</td>\n",
       "      <td>less1</td>\n",
       "      <td>1~3</td>\n",
       "      <td>1</td>\n",
       "      <td>1</td>\n",
       "      <td>1</td>\n",
       "      <td>0</td>\n",
       "      <td>1</td>\n",
       "      <td>0</td>\n",
       "    </tr>\n",
       "    <tr>\n",
       "      <th>8516</th>\n",
       "      <td>Work</td>\n",
       "      <td>Alone</td>\n",
       "      <td>Sunny</td>\n",
       "      <td>80</td>\n",
       "      <td>7AM</td>\n",
       "      <td>Restaurant(&lt;20)</td>\n",
       "      <td>1d</td>\n",
       "      <td>Male</td>\n",
       "      <td>46</td>\n",
       "      <td>Married partner</td>\n",
       "      <td>1</td>\n",
       "      <td>Graduate degree (Masters or Doctorate)</td>\n",
       "      <td>Management</td>\n",
       "      <td>$87500 - $99999</td>\n",
       "      <td>NaN</td>\n",
       "      <td>less1</td>\n",
       "      <td>1~3</td>\n",
       "      <td>1~3</td>\n",
       "      <td>less1</td>\n",
       "      <td>1~3</td>\n",
       "      <td>1</td>\n",
       "      <td>0</td>\n",
       "      <td>0</td>\n",
       "      <td>1</td>\n",
       "      <td>0</td>\n",
       "      <td>1</td>\n",
       "    </tr>\n",
       "  </tbody>\n",
       "</table>\n",
       "<p>74 rows × 26 columns</p>\n",
       "</div>"
      ],
      "text/plain": [
       "     destination passanger weather  temperature  time                 coupon  \\\n",
       "4192        Work     Alone   Sunny           80   7AM  Carry out & Take away   \n",
       "4236        Work     Alone   Sunny           80   7AM  Carry out & Take away   \n",
       "4280        Work     Alone   Sunny           80   7AM  Carry out & Take away   \n",
       "4324        Work     Alone   Sunny           80   7AM  Carry out & Take away   \n",
       "4409        Work     Alone   Sunny           80   7AM  Carry out & Take away   \n",
       "...          ...       ...     ...          ...   ...                    ...   \n",
       "8511        Home     Alone   Sunny           80   6PM                    Bar   \n",
       "8512        Home   Partner   Sunny           30  10PM  Carry out & Take away   \n",
       "8513        Work     Alone   Rainy           55   7AM        Restaurant(<20)   \n",
       "8515        Work     Alone   Snowy           30   7AM      Restaurant(20-50)   \n",
       "8516        Work     Alone   Sunny           80   7AM        Restaurant(<20)   \n",
       "\n",
       "     expiration  gender age    maritalStatus  has_children  \\\n",
       "4192         1d    Male  26           Single             0   \n",
       "4236         1d    Male  26           Single             0   \n",
       "4280         1d  Female  26           Single             0   \n",
       "4324         1d  Female  46           Single             0   \n",
       "4409         1d  Female  21           Single             0   \n",
       "...         ...     ...  ..              ...           ...   \n",
       "8511         2h    Male  46  Married partner             1   \n",
       "8512         2h    Male  46  Married partner             1   \n",
       "8513         2h    Male  46  Married partner             1   \n",
       "8515         1d    Male  46  Married partner             1   \n",
       "8516         1d    Male  46  Married partner             1   \n",
       "\n",
       "                                   education                    occupation  \\\n",
       "4192                       Associates degree                    Unemployed   \n",
       "4236  Graduate degree (Masters or Doctorate)                    Management   \n",
       "4280                        Bachelors degree    Education&Training&Library   \n",
       "4324                Some college - no degree            Protective Service   \n",
       "4409                        Bachelors degree  Life Physical Social Science   \n",
       "...                                      ...                           ...   \n",
       "8511  Graduate degree (Masters or Doctorate)                    Management   \n",
       "8512  Graduate degree (Masters or Doctorate)                    Management   \n",
       "8513  Graduate degree (Masters or Doctorate)                    Management   \n",
       "8515  Graduate degree (Masters or Doctorate)                    Management   \n",
       "8516  Graduate degree (Masters or Doctorate)                    Management   \n",
       "\n",
       "                income  car    Bar CoffeeHouse CarryAway RestaurantLessThan20  \\\n",
       "4192  Less than $12500  NaN  less1       never       1~3                less1   \n",
       "4236   $25000 - $37499  NaN    4~8         gt8       gt8                  4~8   \n",
       "4280   $50000 - $62499  NaN    1~3       never       4~8                  1~3   \n",
       "4324   $25000 - $37499  NaN    1~3       never       4~8                  1~3   \n",
       "4409   $37500 - $49999  NaN  less1       never     less1                  1~3   \n",
       "...                ...  ...    ...         ...       ...                  ...   \n",
       "8511   $87500 - $99999  NaN  less1         1~3       1~3                less1   \n",
       "8512   $87500 - $99999  NaN  less1         1~3       1~3                less1   \n",
       "8513   $87500 - $99999  NaN  less1         1~3       1~3                less1   \n",
       "8515   $87500 - $99999  NaN  less1         1~3       1~3                less1   \n",
       "8516   $87500 - $99999  NaN  less1         1~3       1~3                less1   \n",
       "\n",
       "     Restaurant20To50  toCoupon_GEQ5min  toCoupon_GEQ15min  toCoupon_GEQ25min  \\\n",
       "4192            less1                 1                  1                  1   \n",
       "4236            less1                 1                  1                  1   \n",
       "4280            less1                 1                  1                  1   \n",
       "4324              1~3                 1                  1                  1   \n",
       "4409            never                 1                  1                  1   \n",
       "...               ...               ...                ...                ...   \n",
       "8511              1~3                 1                  0                  0   \n",
       "8512              1~3                 1                  1                  0   \n",
       "8513              1~3                 1                  1                  1   \n",
       "8515              1~3                 1                  1                  1   \n",
       "8516              1~3                 1                  0                  0   \n",
       "\n",
       "      direction_same  direction_opp  Y  \n",
       "4192               0              1  1  \n",
       "4236               0              1  1  \n",
       "4280               0              1  1  \n",
       "4324               0              1  1  \n",
       "4409               0              1  0  \n",
       "...              ...            ... ..  \n",
       "8511               1              0  1  \n",
       "8512               0              1  1  \n",
       "8513               0              1  0  \n",
       "8515               0              1  0  \n",
       "8516               1              0  1  \n",
       "\n",
       "[74 rows x 26 columns]"
      ]
     },
     "execution_count": 193,
     "metadata": {},
     "output_type": "execute_result"
    }
   ],
   "source": [
    "data[data.duplicated]"
   ]
  },
  {
   "cell_type": "code",
   "execution_count": 208,
   "metadata": {},
   "outputs": [
    {
     "data": {
      "text/plain": [
       "12609"
      ]
     },
     "execution_count": 208,
     "metadata": {},
     "output_type": "execute_result"
    }
   ],
   "source": [
    "data = pd.read_csv(\"data/coupons.csv\")  # or wherever you loaded from\n",
    "data.drop_duplicates(inplace=True)"
   ]
  },
  {
   "cell_type": "code",
   "execution_count": 209,
   "metadata": {
    "id": "tyvoAC5F_qRI"
   },
   "outputs": [
    {
     "name": "stdout",
     "output_type": "stream",
     "text": [
      "<class 'pandas.core.frame.DataFrame'>\n",
      "Int64Index: 12610 entries, 0 to 12683\n",
      "Data columns (total 26 columns):\n",
      " #   Column                Non-Null Count  Dtype \n",
      "---  ------                --------------  ----- \n",
      " 0   destination           12610 non-null  object\n",
      " 1   passanger             12610 non-null  object\n",
      " 2   weather               12610 non-null  object\n",
      " 3   temperature           12610 non-null  int64 \n",
      " 4   time                  12610 non-null  object\n",
      " 5   coupon                12610 non-null  object\n",
      " 6   expiration            12610 non-null  object\n",
      " 7   gender                12610 non-null  object\n",
      " 8   age                   12610 non-null  object\n",
      " 9   maritalStatus         12610 non-null  object\n",
      " 10  has_children          12610 non-null  int64 \n",
      " 11  education             12610 non-null  object\n",
      " 12  occupation            12610 non-null  object\n",
      " 13  income                12610 non-null  object\n",
      " 14  car                   108 non-null    object\n",
      " 15  Bar                   12503 non-null  object\n",
      " 16  CoffeeHouse           12393 non-null  object\n",
      " 17  CarryAway             12460 non-null  object\n",
      " 18  RestaurantLessThan20  12481 non-null  object\n",
      " 19  Restaurant20To50      12421 non-null  object\n",
      " 20  toCoupon_GEQ5min      12610 non-null  int64 \n",
      " 21  toCoupon_GEQ15min     12610 non-null  int64 \n",
      " 22  toCoupon_GEQ25min     12610 non-null  int64 \n",
      " 23  direction_same        12610 non-null  int64 \n",
      " 24  direction_opp         12610 non-null  int64 \n",
      " 25  Y                     12610 non-null  int64 \n",
      "dtypes: int64(8), object(18)\n",
      "memory usage: 2.6+ MB\n"
     ]
    }
   ],
   "source": [
    " data.info()"
   ]
  },
  {
   "cell_type": "markdown",
   "metadata": {
    "id": "YE6oJbXd_qRI"
   },
   "source": [
    "4. What proportion of the total observations chose to accept the coupon?\n",
    "\n"
   ]
  },
  {
   "cell_type": "code",
   "execution_count": 213,
   "metadata": {},
   "outputs": [
    {
     "data": {
      "text/plain": [
       "0.5675654242664552"
      ]
     },
     "execution_count": 213,
     "metadata": {},
     "output_type": "execute_result"
    }
   ],
   "source": [
    "(data['Y']==1).sum()/len(data)"
   ]
  },
  {
   "cell_type": "markdown",
   "metadata": {
    "id": "vflz0DoE_qRI"
   },
   "source": [
    "5. Use a bar plot to visualize the `coupon` column."
   ]
  },
  {
   "cell_type": "code",
   "execution_count": 231,
   "metadata": {
    "id": "dHFh3E45_qRI"
   },
   "outputs": [
    {
     "data": {
      "image/png": "[encoded data removed]",
      "text/plain": [
       "<Figure size 640x480 with 1 Axes>"
      ]
     },
     "metadata": {},
     "output_type": "display_data"
    }
   ],
   "source": [
    "group_count=data[\"coupon\"].value_counts()\n",
    "plt.bar(group_count.index, group_count)\n",
    "plt.xticks(rotation=45,fontsize=6)\n",
    "plt.title('Coupons Type Distribution')\n",
    "plt.ylabel('Count')\n",
    "plt.xlabel('Coupons Type')\n",
    "plt.savefig('plot1.png')"
   ]
  },
  {
   "cell_type": "markdown",
   "metadata": {
    "id": "Qw4lCyx2_qRI"
   },
   "source": [
    "6. Use a histogram to visualize the temperature column."
   ]
  },
  {
   "cell_type": "code",
   "execution_count": 215,
   "metadata": {
    "id": "Yg9Anv71_qRI"
   },
   "outputs": [
    {
     "data": {
      "image/png": "[encoded data removed]",
      "text/plain": [
       "<Figure size 640x480 with 1 Axes>"
      ]
     },
     "metadata": {},
     "output_type": "display_data"
    }
   ],
   "source": [
    "plt.hist(data[\"temperature\"], bins=10, color='blue', edgecolor='black')\n",
    "plt.title('Temperature Distribution')\n",
    "plt.ylabel('Count')\n",
    "plt.xlabel('Temperature')\n",
    "plt.savefig('plot2.png')"
   ]
  },
  {
   "cell_type": "markdown",
   "metadata": {
    "id": "FupfgeJk_qRJ"
   },
   "source": [
    "**Investigating the Bar Coupons**\n",
    "\n",
    "Now, we will lead you through an exploration of just the bar related coupons.  \n",
    "\n",
    "1. Create a new `DataFrame` that contains just the bar coupons.\n"
   ]
  },
  {
   "cell_type": "code",
   "execution_count": 216,
   "metadata": {
    "id": "tMBlWuGq_qRJ"
   },
   "outputs": [
    {
     "data": {
      "text/html": [
       "<div>\n",
       "<style scoped>\n",
       "    .dataframe tbody tr th:only-of-type {\n",
       "        vertical-align: middle;\n",
       "    }\n",
       "\n",
       "    .dataframe tbody tr th {\n",
       "        vertical-align: top;\n",
       "    }\n",
       "\n",
       "    .dataframe thead th {\n",
       "        text-align: right;\n",
       "    }\n",
       "</style>\n",
       "<table border=\"1\" class=\"dataframe\">\n",
       "  <thead>\n",
       "    <tr style=\"text-align: right;\">\n",
       "      <th></th>\n",
       "      <th>destination</th>\n",
       "      <th>passanger</th>\n",
       "      <th>weather</th>\n",
       "      <th>temperature</th>\n",
       "      <th>time</th>\n",
       "      <th>coupon</th>\n",
       "      <th>expiration</th>\n",
       "      <th>gender</th>\n",
       "      <th>age</th>\n",
       "      <th>maritalStatus</th>\n",
       "      <th>has_children</th>\n",
       "      <th>education</th>\n",
       "      <th>occupation</th>\n",
       "      <th>income</th>\n",
       "      <th>car</th>\n",
       "      <th>Bar</th>\n",
       "      <th>CoffeeHouse</th>\n",
       "      <th>CarryAway</th>\n",
       "      <th>RestaurantLessThan20</th>\n",
       "      <th>Restaurant20To50</th>\n",
       "      <th>toCoupon_GEQ5min</th>\n",
       "      <th>toCoupon_GEQ15min</th>\n",
       "      <th>toCoupon_GEQ25min</th>\n",
       "      <th>direction_same</th>\n",
       "      <th>direction_opp</th>\n",
       "      <th>Y</th>\n",
       "    </tr>\n",
       "  </thead>\n",
       "  <tbody>\n",
       "    <tr>\n",
       "      <th>9</th>\n",
       "      <td>No Urgent Place</td>\n",
       "      <td>Kid(s)</td>\n",
       "      <td>Sunny</td>\n",
       "      <td>80</td>\n",
       "      <td>10AM</td>\n",
       "      <td>Bar</td>\n",
       "      <td>1d</td>\n",
       "      <td>Female</td>\n",
       "      <td>21</td>\n",
       "      <td>Unmarried partner</td>\n",
       "      <td>1</td>\n",
       "      <td>Some college - no degree</td>\n",
       "      <td>Unemployed</td>\n",
       "      <td>$37500 - $49999</td>\n",
       "      <td>NaN</td>\n",
       "      <td>never</td>\n",
       "      <td>never</td>\n",
       "      <td>NaN</td>\n",
       "      <td>4~8</td>\n",
       "      <td>1~3</td>\n",
       "      <td>1</td>\n",
       "      <td>1</td>\n",
       "      <td>0</td>\n",
       "      <td>0</td>\n",
       "      <td>1</td>\n",
       "      <td>0</td>\n",
       "    </tr>\n",
       "    <tr>\n",
       "      <th>13</th>\n",
       "      <td>Home</td>\n",
       "      <td>Alone</td>\n",
       "      <td>Sunny</td>\n",
       "      <td>55</td>\n",
       "      <td>6PM</td>\n",
       "      <td>Bar</td>\n",
       "      <td>1d</td>\n",
       "      <td>Female</td>\n",
       "      <td>21</td>\n",
       "      <td>Unmarried partner</td>\n",
       "      <td>1</td>\n",
       "      <td>Some college - no degree</td>\n",
       "      <td>Unemployed</td>\n",
       "      <td>$37500 - $49999</td>\n",
       "      <td>NaN</td>\n",
       "      <td>never</td>\n",
       "      <td>never</td>\n",
       "      <td>NaN</td>\n",
       "      <td>4~8</td>\n",
       "      <td>1~3</td>\n",
       "      <td>1</td>\n",
       "      <td>0</td>\n",
       "      <td>0</td>\n",
       "      <td>1</td>\n",
       "      <td>0</td>\n",
       "      <td>1</td>\n",
       "    </tr>\n",
       "    <tr>\n",
       "      <th>17</th>\n",
       "      <td>Work</td>\n",
       "      <td>Alone</td>\n",
       "      <td>Sunny</td>\n",
       "      <td>55</td>\n",
       "      <td>7AM</td>\n",
       "      <td>Bar</td>\n",
       "      <td>1d</td>\n",
       "      <td>Female</td>\n",
       "      <td>21</td>\n",
       "      <td>Unmarried partner</td>\n",
       "      <td>1</td>\n",
       "      <td>Some college - no degree</td>\n",
       "      <td>Unemployed</td>\n",
       "      <td>$37500 - $49999</td>\n",
       "      <td>NaN</td>\n",
       "      <td>never</td>\n",
       "      <td>never</td>\n",
       "      <td>NaN</td>\n",
       "      <td>4~8</td>\n",
       "      <td>1~3</td>\n",
       "      <td>1</td>\n",
       "      <td>1</td>\n",
       "      <td>1</td>\n",
       "      <td>0</td>\n",
       "      <td>1</td>\n",
       "      <td>0</td>\n",
       "    </tr>\n",
       "    <tr>\n",
       "      <th>24</th>\n",
       "      <td>No Urgent Place</td>\n",
       "      <td>Friend(s)</td>\n",
       "      <td>Sunny</td>\n",
       "      <td>80</td>\n",
       "      <td>10AM</td>\n",
       "      <td>Bar</td>\n",
       "      <td>1d</td>\n",
       "      <td>Male</td>\n",
       "      <td>21</td>\n",
       "      <td>Single</td>\n",
       "      <td>0</td>\n",
       "      <td>Bachelors degree</td>\n",
       "      <td>Architecture &amp; Engineering</td>\n",
       "      <td>$62500 - $74999</td>\n",
       "      <td>NaN</td>\n",
       "      <td>never</td>\n",
       "      <td>less1</td>\n",
       "      <td>4~8</td>\n",
       "      <td>4~8</td>\n",
       "      <td>less1</td>\n",
       "      <td>1</td>\n",
       "      <td>0</td>\n",
       "      <td>0</td>\n",
       "      <td>0</td>\n",
       "      <td>1</td>\n",
       "      <td>1</td>\n",
       "    </tr>\n",
       "    <tr>\n",
       "      <th>35</th>\n",
       "      <td>Home</td>\n",
       "      <td>Alone</td>\n",
       "      <td>Sunny</td>\n",
       "      <td>55</td>\n",
       "      <td>6PM</td>\n",
       "      <td>Bar</td>\n",
       "      <td>1d</td>\n",
       "      <td>Male</td>\n",
       "      <td>21</td>\n",
       "      <td>Single</td>\n",
       "      <td>0</td>\n",
       "      <td>Bachelors degree</td>\n",
       "      <td>Architecture &amp; Engineering</td>\n",
       "      <td>$62500 - $74999</td>\n",
       "      <td>NaN</td>\n",
       "      <td>never</td>\n",
       "      <td>less1</td>\n",
       "      <td>4~8</td>\n",
       "      <td>4~8</td>\n",
       "      <td>less1</td>\n",
       "      <td>1</td>\n",
       "      <td>0</td>\n",
       "      <td>0</td>\n",
       "      <td>1</td>\n",
       "      <td>0</td>\n",
       "      <td>1</td>\n",
       "    </tr>\n",
       "    <tr>\n",
       "      <th>...</th>\n",
       "      <td>...</td>\n",
       "      <td>...</td>\n",
       "      <td>...</td>\n",
       "      <td>...</td>\n",
       "      <td>...</td>\n",
       "      <td>...</td>\n",
       "      <td>...</td>\n",
       "      <td>...</td>\n",
       "      <td>...</td>\n",
       "      <td>...</td>\n",
       "      <td>...</td>\n",
       "      <td>...</td>\n",
       "      <td>...</td>\n",
       "      <td>...</td>\n",
       "      <td>...</td>\n",
       "      <td>...</td>\n",
       "      <td>...</td>\n",
       "      <td>...</td>\n",
       "      <td>...</td>\n",
       "      <td>...</td>\n",
       "      <td>...</td>\n",
       "      <td>...</td>\n",
       "      <td>...</td>\n",
       "      <td>...</td>\n",
       "      <td>...</td>\n",
       "      <td>...</td>\n",
       "    </tr>\n",
       "    <tr>\n",
       "      <th>12663</th>\n",
       "      <td>No Urgent Place</td>\n",
       "      <td>Friend(s)</td>\n",
       "      <td>Sunny</td>\n",
       "      <td>80</td>\n",
       "      <td>10PM</td>\n",
       "      <td>Bar</td>\n",
       "      <td>1d</td>\n",
       "      <td>Male</td>\n",
       "      <td>26</td>\n",
       "      <td>Single</td>\n",
       "      <td>0</td>\n",
       "      <td>Bachelors degree</td>\n",
       "      <td>Sales &amp; Related</td>\n",
       "      <td>$75000 - $87499</td>\n",
       "      <td>NaN</td>\n",
       "      <td>never</td>\n",
       "      <td>never</td>\n",
       "      <td>1~3</td>\n",
       "      <td>4~8</td>\n",
       "      <td>1~3</td>\n",
       "      <td>1</td>\n",
       "      <td>1</td>\n",
       "      <td>0</td>\n",
       "      <td>0</td>\n",
       "      <td>1</td>\n",
       "      <td>0</td>\n",
       "    </tr>\n",
       "    <tr>\n",
       "      <th>12664</th>\n",
       "      <td>No Urgent Place</td>\n",
       "      <td>Friend(s)</td>\n",
       "      <td>Sunny</td>\n",
       "      <td>55</td>\n",
       "      <td>10PM</td>\n",
       "      <td>Bar</td>\n",
       "      <td>2h</td>\n",
       "      <td>Male</td>\n",
       "      <td>26</td>\n",
       "      <td>Single</td>\n",
       "      <td>0</td>\n",
       "      <td>Bachelors degree</td>\n",
       "      <td>Sales &amp; Related</td>\n",
       "      <td>$75000 - $87499</td>\n",
       "      <td>NaN</td>\n",
       "      <td>never</td>\n",
       "      <td>never</td>\n",
       "      <td>1~3</td>\n",
       "      <td>4~8</td>\n",
       "      <td>1~3</td>\n",
       "      <td>1</td>\n",
       "      <td>1</td>\n",
       "      <td>0</td>\n",
       "      <td>0</td>\n",
       "      <td>1</td>\n",
       "      <td>0</td>\n",
       "    </tr>\n",
       "    <tr>\n",
       "      <th>12667</th>\n",
       "      <td>No Urgent Place</td>\n",
       "      <td>Alone</td>\n",
       "      <td>Rainy</td>\n",
       "      <td>55</td>\n",
       "      <td>10AM</td>\n",
       "      <td>Bar</td>\n",
       "      <td>1d</td>\n",
       "      <td>Male</td>\n",
       "      <td>26</td>\n",
       "      <td>Single</td>\n",
       "      <td>0</td>\n",
       "      <td>Bachelors degree</td>\n",
       "      <td>Sales &amp; Related</td>\n",
       "      <td>$75000 - $87499</td>\n",
       "      <td>NaN</td>\n",
       "      <td>never</td>\n",
       "      <td>never</td>\n",
       "      <td>1~3</td>\n",
       "      <td>4~8</td>\n",
       "      <td>1~3</td>\n",
       "      <td>1</td>\n",
       "      <td>1</td>\n",
       "      <td>0</td>\n",
       "      <td>0</td>\n",
       "      <td>1</td>\n",
       "      <td>0</td>\n",
       "    </tr>\n",
       "    <tr>\n",
       "      <th>12670</th>\n",
       "      <td>No Urgent Place</td>\n",
       "      <td>Partner</td>\n",
       "      <td>Rainy</td>\n",
       "      <td>55</td>\n",
       "      <td>6PM</td>\n",
       "      <td>Bar</td>\n",
       "      <td>2h</td>\n",
       "      <td>Male</td>\n",
       "      <td>26</td>\n",
       "      <td>Single</td>\n",
       "      <td>0</td>\n",
       "      <td>Bachelors degree</td>\n",
       "      <td>Sales &amp; Related</td>\n",
       "      <td>$75000 - $87499</td>\n",
       "      <td>NaN</td>\n",
       "      <td>never</td>\n",
       "      <td>never</td>\n",
       "      <td>1~3</td>\n",
       "      <td>4~8</td>\n",
       "      <td>1~3</td>\n",
       "      <td>1</td>\n",
       "      <td>1</td>\n",
       "      <td>0</td>\n",
       "      <td>0</td>\n",
       "      <td>1</td>\n",
       "      <td>0</td>\n",
       "    </tr>\n",
       "    <tr>\n",
       "      <th>12682</th>\n",
       "      <td>Work</td>\n",
       "      <td>Alone</td>\n",
       "      <td>Snowy</td>\n",
       "      <td>30</td>\n",
       "      <td>7AM</td>\n",
       "      <td>Bar</td>\n",
       "      <td>1d</td>\n",
       "      <td>Male</td>\n",
       "      <td>26</td>\n",
       "      <td>Single</td>\n",
       "      <td>0</td>\n",
       "      <td>Bachelors degree</td>\n",
       "      <td>Sales &amp; Related</td>\n",
       "      <td>$75000 - $87499</td>\n",
       "      <td>NaN</td>\n",
       "      <td>never</td>\n",
       "      <td>never</td>\n",
       "      <td>1~3</td>\n",
       "      <td>4~8</td>\n",
       "      <td>1~3</td>\n",
       "      <td>1</td>\n",
       "      <td>1</td>\n",
       "      <td>1</td>\n",
       "      <td>0</td>\n",
       "      <td>1</td>\n",
       "      <td>0</td>\n",
       "    </tr>\n",
       "  </tbody>\n",
       "</table>\n",
       "<p>2010 rows × 26 columns</p>\n",
       "</div>"
      ],
      "text/plain": [
       "           destination  passanger weather  temperature  time coupon  \\\n",
       "9      No Urgent Place     Kid(s)   Sunny           80  10AM    Bar   \n",
       "13                Home      Alone   Sunny           55   6PM    Bar   \n",
       "17                Work      Alone   Sunny           55   7AM    Bar   \n",
       "24     No Urgent Place  Friend(s)   Sunny           80  10AM    Bar   \n",
       "35                Home      Alone   Sunny           55   6PM    Bar   \n",
       "...                ...        ...     ...          ...   ...    ...   \n",
       "12663  No Urgent Place  Friend(s)   Sunny           80  10PM    Bar   \n",
       "12664  No Urgent Place  Friend(s)   Sunny           55  10PM    Bar   \n",
       "12667  No Urgent Place      Alone   Rainy           55  10AM    Bar   \n",
       "12670  No Urgent Place    Partner   Rainy           55   6PM    Bar   \n",
       "12682             Work      Alone   Snowy           30   7AM    Bar   \n",
       "\n",
       "      expiration  gender age      maritalStatus  has_children  \\\n",
       "9             1d  Female  21  Unmarried partner             1   \n",
       "13            1d  Female  21  Unmarried partner             1   \n",
       "17            1d  Female  21  Unmarried partner             1   \n",
       "24            1d    Male  21             Single             0   \n",
       "35            1d    Male  21             Single             0   \n",
       "...          ...     ...  ..                ...           ...   \n",
       "12663         1d    Male  26             Single             0   \n",
       "12664         2h    Male  26             Single             0   \n",
       "12667         1d    Male  26             Single             0   \n",
       "12670         2h    Male  26             Single             0   \n",
       "12682         1d    Male  26             Single             0   \n",
       "\n",
       "                      education                  occupation           income  \\\n",
       "9      Some college - no degree                  Unemployed  $37500 - $49999   \n",
       "13     Some college - no degree                  Unemployed  $37500 - $49999   \n",
       "17     Some college - no degree                  Unemployed  $37500 - $49999   \n",
       "24             Bachelors degree  Architecture & Engineering  $62500 - $74999   \n",
       "35             Bachelors degree  Architecture & Engineering  $62500 - $74999   \n",
       "...                         ...                         ...              ...   \n",
       "12663          Bachelors degree             Sales & Related  $75000 - $87499   \n",
       "12664          Bachelors degree             Sales & Related  $75000 - $87499   \n",
       "12667          Bachelors degree             Sales & Related  $75000 - $87499   \n",
       "12670          Bachelors degree             Sales & Related  $75000 - $87499   \n",
       "12682          Bachelors degree             Sales & Related  $75000 - $87499   \n",
       "\n",
       "       car    Bar CoffeeHouse CarryAway RestaurantLessThan20 Restaurant20To50  \\\n",
       "9      NaN  never       never       NaN                  4~8              1~3   \n",
       "13     NaN  never       never       NaN                  4~8              1~3   \n",
       "17     NaN  never       never       NaN                  4~8              1~3   \n",
       "24     NaN  never       less1       4~8                  4~8            less1   \n",
       "35     NaN  never       less1       4~8                  4~8            less1   \n",
       "...    ...    ...         ...       ...                  ...              ...   \n",
       "12663  NaN  never       never       1~3                  4~8              1~3   \n",
       "12664  NaN  never       never       1~3                  4~8              1~3   \n",
       "12667  NaN  never       never       1~3                  4~8              1~3   \n",
       "12670  NaN  never       never       1~3                  4~8              1~3   \n",
       "12682  NaN  never       never       1~3                  4~8              1~3   \n",
       "\n",
       "       toCoupon_GEQ5min  toCoupon_GEQ15min  toCoupon_GEQ25min  direction_same  \\\n",
       "9                     1                  1                  0               0   \n",
       "13                    1                  0                  0               1   \n",
       "17                    1                  1                  1               0   \n",
       "24                    1                  0                  0               0   \n",
       "35                    1                  0                  0               1   \n",
       "...                 ...                ...                ...             ...   \n",
       "12663                 1                  1                  0               0   \n",
       "12664                 1                  1                  0               0   \n",
       "12667                 1                  1                  0               0   \n",
       "12670                 1                  1                  0               0   \n",
       "12682                 1                  1                  1               0   \n",
       "\n",
       "       direction_opp  Y  \n",
       "9                  1  0  \n",
       "13                 0  1  \n",
       "17                 1  0  \n",
       "24                 1  1  \n",
       "35                 0  1  \n",
       "...              ... ..  \n",
       "12663              1  0  \n",
       "12664              1  0  \n",
       "12667              1  0  \n",
       "12670              1  0  \n",
       "12682              1  0  \n",
       "\n",
       "[2010 rows x 26 columns]"
      ]
     },
     "execution_count": 216,
     "metadata": {},
     "output_type": "execute_result"
    }
   ],
   "source": [
    "bar_coupons = data[data[\"coupon\"]==\"Bar\"]\n",
    "bar_coupons"
   ]
  },
  {
   "cell_type": "markdown",
   "metadata": {
    "id": "8ue6uCqf_qRJ"
   },
   "source": [
    "2. What proportion of bar coupons were accepted?\n"
   ]
  },
  {
   "cell_type": "code",
   "execution_count": 217,
   "metadata": {
    "id": "hSdte8Mi_qRK"
   },
   "outputs": [
    {
     "data": {
      "text/plain": [
       "0.4099502487562189"
      ]
     },
     "execution_count": 217,
     "metadata": {},
     "output_type": "execute_result"
    }
   ],
   "source": [
    "(bar_coupons['Y']==1).sum()/len(bar_coupons)"
   ]
  },
  {
   "cell_type": "markdown",
   "metadata": {
    "id": "85nA_iEi_qRK"
   },
   "source": [
    "3. Compare the acceptance rate between those who went to a bar 3 or fewer times a month to those who went more.\n"
   ]
  },
  {
   "cell_type": "code",
   "execution_count": 218,
   "metadata": {
    "id": "LBOrN-XM_qRK"
   },
   "outputs": [
    {
     "name": "stdout",
     "output_type": "stream",
     "text": [
      "['1~3', '4~8', 'gt8', 'less1', 'never']\n"
     ]
    }
   ],
   "source": [
    "grouped = bar_coupons.groupby('Bar')\n",
    "group_names = grouped.groups.keys()\n",
    "print(list(group_names))"
   ]
  },
  {
   "cell_type": "code",
   "execution_count": 219,
   "metadata": {},
   "outputs": [
    {
     "data": {
      "text/plain": [
       "0.370391061452514"
      ]
     },
     "execution_count": 219,
     "metadata": {},
     "output_type": "execute_result"
    }
   ],
   "source": [
    "filtered_bar_coupons1=bar_coupons[bar_coupons[\"Bar\"].isin([\"1~3\",\"less1\",\"never\"])]\n",
    "acceptance_rate1=filtered_bar_coupons1[\"Y\"].sum()/len(filtered_bar_coupons1)\n",
    "acceptance_rate1\n"
   ]
  },
  {
   "cell_type": "code",
   "execution_count": 220,
   "metadata": {},
   "outputs": [
    {
     "data": {
      "text/plain": [
       "0.7688442211055276"
      ]
     },
     "execution_count": 220,
     "metadata": {},
     "output_type": "execute_result"
    }
   ],
   "source": [
    "filtered_bar_coupons2=bar_coupons[bar_coupons[\"Bar\"].isin([\"4~8\",\"gt8\"])]\n",
    "acceptance_rate2=filtered_bar_coupons2[\"Y\"].sum()/len(filtered_bar_coupons2)\n",
    "acceptance_rate2\n"
   ]
  },
  {
   "cell_type": "markdown",
   "metadata": {
    "id": "RBgcQwH4_qRK"
   },
   "source": [
    "4. Compare the acceptance rate between drivers who go to a bar more than once a month and are over the age of 25 to the all others.  Is there a difference?\n"
   ]
  },
  {
   "cell_type": "code",
   "execution_count": 221,
   "metadata": {
    "id": "bf28bbeX_qRK"
   },
   "outputs": [
    {
     "data": {
      "text/plain": [
       "0.6997167138810199"
      ]
     },
     "execution_count": 221,
     "metadata": {},
     "output_type": "execute_result"
    }
   ],
   "source": [
    "bar_coupons1 = data[data[\"coupon\"]==\"Bar\"].copy() \n",
    "bar_coupons1[\"age\"] = pd.to_numeric(bar_coupons1[\"age\"], errors='coerce')\n",
    "filtered_bar_coupons3 = bar_coupons1[\n",
    "    (bar_coupons1[\"Bar\"].isin([\"1~3\", \"4~8\", \"gt8\"])) &\n",
    "    (bar_coupons1[\"age\"] > 25)\n",
    "]\n",
    "acceptance_rate3=filtered_bar_coupons3[\"Y\"].sum()/len(filtered_bar_coupons3)\n",
    "acceptance_rate3"
   ]
  },
  {
   "cell_type": "markdown",
   "metadata": {
    "id": "S4RKT4PJ_qRK"
   },
   "source": [
    "5. Use the same process to compare the acceptance rate between drivers who go to bars more than once a month and had passengers that were not a kid and had occupations other than farming, fishing, or forestry.\n"
   ]
  },
  {
   "cell_type": "code",
   "execution_count": 222,
   "metadata": {},
   "outputs": [],
   "source": [
    "grouped = bar_coupons.groupby('occupation')\n",
    "group_names1 = grouped.groups.keys()"
   ]
  },
  {
   "cell_type": "code",
   "execution_count": 223,
   "metadata": {
    "id": "sENaI2Tg_qRK"
   },
   "outputs": [
    {
     "data": {
      "text/plain": [
       "0.7132486388384754"
      ]
     },
     "execution_count": 223,
     "metadata": {},
     "output_type": "execute_result"
    }
   ],
   "source": [
    "filtered_bar_coupons4 = bar_coupons1[\n",
    "     (bar_coupons1[\"Bar\"].isin([\"1~3\", \"4~8\", \"gt8\"])) &\n",
    "    (bar_coupons1[\"passanger\"]!=\"Kid(s)\") &\n",
    "    (~bar_coupons1[\"occupation\"].isin(['Farming Fishing & Forestry']))\n",
    "]\n",
    "acceptance_rate4=filtered_bar_coupons4[\"Y\"].sum()/len(filtered_bar_coupons4)\n",
    "acceptance_rate4\n"
   ]
  },
  {
   "cell_type": "markdown",
   "metadata": {
    "id": "n2LIUTil_qRK"
   },
   "source": [
    "6. Compare the acceptance rates between those drivers who:\n",
    "\n",
    "- go to bars more than once a month, had passengers that were not a kid, and were not widowed *OR*\n",
    "- go to bars more than once a month and are under the age of 30 *OR*\n",
    "- go to cheap restaurants more than 4 times a month and income is less than 50K.\n",
    "\n"
   ]
  },
  {
   "cell_type": "code",
   "execution_count": 224,
   "metadata": {},
   "outputs": [
    {
     "name": "stdout",
     "output_type": "stream",
     "text": [
      "['Divorced', 'Married partner', 'Single', 'Unmarried partner', 'Widowed']\n"
     ]
    }
   ],
   "source": [
    "grouped = bar_coupons.groupby('maritalStatus')\n",
    "group_names2= grouped.groups.keys()\n",
    "print(list(group_names2))"
   ]
  },
  {
   "cell_type": "code",
   "execution_count": 225,
   "metadata": {},
   "outputs": [
    {
     "name": "stdout",
     "output_type": "stream",
     "text": [
      "['1~3', '4~8', 'gt8', 'less1', 'never']\n"
     ]
    }
   ],
   "source": [
    "grouped = bar_coupons.groupby('RestaurantLessThan20')\n",
    "group_names3= grouped.groups.keys()\n",
    "print(list(group_names3))"
   ]
  },
  {
   "cell_type": "code",
   "execution_count": 226,
   "metadata": {},
   "outputs": [
    {
     "name": "stdout",
     "output_type": "stream",
     "text": [
      "['$100000 or More', '$12500 - $24999', '$25000 - $37499', '$37500 - $49999', '$50000 - $62499', '$62500 - $74999', '$75000 - $87499', '$87500 - $99999', 'Less than $12500']\n"
     ]
    }
   ],
   "source": [
    "grouped = bar_coupons.groupby('income')\n",
    "group_names4= grouped.groups.keys()\n",
    "print(list(group_names4))"
   ]
  },
  {
   "cell_type": "code",
   "execution_count": 227,
   "metadata": {
    "id": "aK_wEzx7_qRK"
   },
   "outputs": [
    {
     "name": "stdout",
     "output_type": "stream",
     "text": [
      "0.7132486388384754\n",
      "0.7313432835820896\n",
      "0.6002644336712208\n"
     ]
    }
   ],
   "source": [
    "filtered_bar_coupons5_1 = bar_coupons1[\n",
    "     (bar_coupons1[\"Bar\"].isin([\"1~3\", \"4~8\", \"gt8\"])) &\n",
    "    (bar_coupons1[\"passanger\"]!=\"Kid(s)\") &\n",
    "    (bar_coupons1[\"maritalStatus\"]!=\"Widowed\")\n",
    "]\n",
    "acceptance_rate5_1=filtered_bar_coupons5_1[\"Y\"].sum()/len(filtered_bar_coupons5_1)\n",
    "print(acceptance_rate5_1)\n",
    "\n",
    "filtered_bar_coupons5_2 = bar_coupons1[\n",
    "     (bar_coupons1[\"Bar\"].isin([\"1~3\", \"4~8\", \"gt8\"])) &\n",
    "    (bar_coupons1[\"age\"]<30)]\n",
    "    \n",
    "acceptance_rate5_2=filtered_bar_coupons5_2[\"Y\"].sum()/len(filtered_bar_coupons5_2)\n",
    "print(acceptance_rate5_2)\n",
    "\n",
    "RestaurantLessThan20_cleaned = data.copy()\n",
    "RestaurantLessThan20_cleaned_1 = RestaurantLessThan20_cleaned[(RestaurantLessThan20_cleaned[\"income\"].\n",
    "                    isin(['Less than $12500','$12500 - $24999', '$25000 - $37499', '$37500 - $49999']))&\n",
    "                     (RestaurantLessThan20_cleaned[\"RestaurantLessThan20\"].isin(['4~8', 'gt8']))]                             \n",
    "               \n",
    "acceptance_rate5_3=RestaurantLessThan20_cleaned_1[\"Y\"].sum()/len(RestaurantLessThan20_cleaned_1)\n",
    "print(acceptance_rate5_3)"
   ]
  },
  {
   "cell_type": "markdown",
   "metadata": {
    "id": "v3fL3QkO_qRK"
   },
   "source": [
    "7.  Based on these observations, what do you hypothesize about drivers who accepted the bar coupons?"
   ]
  },
  {
   "cell_type": "code",
   "execution_count": null,
   "metadata": {
    "id": "Y48naDFh_qRL"
   },
   "outputs": [],
   "source": []
  },
  {
   "cell_type": "markdown",
   "metadata": {
    "id": "r4Hu1zOb_qRL"
   },
   "source": [
    "### Independent Investigation\n",
    "\n",
    "Using the bar coupon example as motivation, you are to explore one of the other coupon groups and try to determine the characteristics of passengers who accept the coupons.  "
   ]
  },
  {
   "cell_type": "code",
   "execution_count": 150,
   "metadata": {},
   "outputs": [
    {
     "name": "stdout",
     "output_type": "stream",
     "text": [
      "['Bar', 'Carry out & Take away', 'Coffee House', 'Restaurant(20-50)', 'Restaurant(<20)']\n"
     ]
    }
   ],
   "source": [
    "grouped = data.groupby('coupon')\n",
    "group_names4 = grouped.groups.keys()\n",
    "print(list(group_names4))"
   ]
  },
  {
   "cell_type": "code",
   "execution_count": 151,
   "metadata": {
    "id": "0c71cQhu_qRL"
   },
   "outputs": [
    {
     "data": {
      "text/html": [
       "<div>\n",
       "<style scoped>\n",
       "    .dataframe tbody tr th:only-of-type {\n",
       "        vertical-align: middle;\n",
       "    }\n",
       "\n",
       "    .dataframe tbody tr th {\n",
       "        vertical-align: top;\n",
       "    }\n",
       "\n",
       "    .dataframe thead th {\n",
       "        text-align: right;\n",
       "    }\n",
       "</style>\n",
       "<table border=\"1\" class=\"dataframe\">\n",
       "  <thead>\n",
       "    <tr style=\"text-align: right;\">\n",
       "      <th></th>\n",
       "      <th>destination</th>\n",
       "      <th>passanger</th>\n",
       "      <th>weather</th>\n",
       "      <th>temperature</th>\n",
       "      <th>time</th>\n",
       "      <th>coupon</th>\n",
       "      <th>expiration</th>\n",
       "      <th>gender</th>\n",
       "      <th>age</th>\n",
       "      <th>maritalStatus</th>\n",
       "      <th>has_children</th>\n",
       "      <th>education</th>\n",
       "      <th>occupation</th>\n",
       "      <th>income</th>\n",
       "      <th>car</th>\n",
       "      <th>Bar</th>\n",
       "      <th>CoffeeHouse</th>\n",
       "      <th>CarryAway</th>\n",
       "      <th>RestaurantLessThan20</th>\n",
       "      <th>Restaurant20To50</th>\n",
       "      <th>toCoupon_GEQ5min</th>\n",
       "      <th>toCoupon_GEQ15min</th>\n",
       "      <th>toCoupon_GEQ25min</th>\n",
       "      <th>direction_same</th>\n",
       "      <th>direction_opp</th>\n",
       "      <th>Y</th>\n",
       "    </tr>\n",
       "  </thead>\n",
       "  <tbody>\n",
       "    <tr>\n",
       "      <th>2</th>\n",
       "      <td>No Urgent Place</td>\n",
       "      <td>Friend(s)</td>\n",
       "      <td>Sunny</td>\n",
       "      <td>80</td>\n",
       "      <td>10AM</td>\n",
       "      <td>Carry out &amp; Take away</td>\n",
       "      <td>2h</td>\n",
       "      <td>Female</td>\n",
       "      <td>21</td>\n",
       "      <td>Unmarried partner</td>\n",
       "      <td>1</td>\n",
       "      <td>Some college - no degree</td>\n",
       "      <td>Unemployed</td>\n",
       "      <td>$37500 - $49999</td>\n",
       "      <td>NaN</td>\n",
       "      <td>never</td>\n",
       "      <td>never</td>\n",
       "      <td>NaN</td>\n",
       "      <td>4~8</td>\n",
       "      <td>1~3</td>\n",
       "      <td>1</td>\n",
       "      <td>1</td>\n",
       "      <td>0</td>\n",
       "      <td>0</td>\n",
       "      <td>1</td>\n",
       "      <td>1</td>\n",
       "    </tr>\n",
       "    <tr>\n",
       "      <th>6</th>\n",
       "      <td>No Urgent Place</td>\n",
       "      <td>Friend(s)</td>\n",
       "      <td>Sunny</td>\n",
       "      <td>55</td>\n",
       "      <td>2PM</td>\n",
       "      <td>Carry out &amp; Take away</td>\n",
       "      <td>1d</td>\n",
       "      <td>Female</td>\n",
       "      <td>21</td>\n",
       "      <td>Unmarried partner</td>\n",
       "      <td>1</td>\n",
       "      <td>Some college - no degree</td>\n",
       "      <td>Unemployed</td>\n",
       "      <td>$37500 - $49999</td>\n",
       "      <td>NaN</td>\n",
       "      <td>never</td>\n",
       "      <td>never</td>\n",
       "      <td>NaN</td>\n",
       "      <td>4~8</td>\n",
       "      <td>1~3</td>\n",
       "      <td>1</td>\n",
       "      <td>1</td>\n",
       "      <td>0</td>\n",
       "      <td>0</td>\n",
       "      <td>1</td>\n",
       "      <td>1</td>\n",
       "    </tr>\n",
       "    <tr>\n",
       "      <th>8</th>\n",
       "      <td>No Urgent Place</td>\n",
       "      <td>Kid(s)</td>\n",
       "      <td>Sunny</td>\n",
       "      <td>80</td>\n",
       "      <td>10AM</td>\n",
       "      <td>Carry out &amp; Take away</td>\n",
       "      <td>2h</td>\n",
       "      <td>Female</td>\n",
       "      <td>21</td>\n",
       "      <td>Unmarried partner</td>\n",
       "      <td>1</td>\n",
       "      <td>Some college - no degree</td>\n",
       "      <td>Unemployed</td>\n",
       "      <td>$37500 - $49999</td>\n",
       "      <td>NaN</td>\n",
       "      <td>never</td>\n",
       "      <td>never</td>\n",
       "      <td>NaN</td>\n",
       "      <td>4~8</td>\n",
       "      <td>1~3</td>\n",
       "      <td>1</td>\n",
       "      <td>1</td>\n",
       "      <td>0</td>\n",
       "      <td>0</td>\n",
       "      <td>1</td>\n",
       "      <td>1</td>\n",
       "    </tr>\n",
       "    <tr>\n",
       "      <th>19</th>\n",
       "      <td>Work</td>\n",
       "      <td>Alone</td>\n",
       "      <td>Sunny</td>\n",
       "      <td>80</td>\n",
       "      <td>7AM</td>\n",
       "      <td>Carry out &amp; Take away</td>\n",
       "      <td>2h</td>\n",
       "      <td>Female</td>\n",
       "      <td>21</td>\n",
       "      <td>Unmarried partner</td>\n",
       "      <td>1</td>\n",
       "      <td>Some college - no degree</td>\n",
       "      <td>Unemployed</td>\n",
       "      <td>$37500 - $49999</td>\n",
       "      <td>NaN</td>\n",
       "      <td>never</td>\n",
       "      <td>never</td>\n",
       "      <td>NaN</td>\n",
       "      <td>4~8</td>\n",
       "      <td>1~3</td>\n",
       "      <td>1</td>\n",
       "      <td>0</td>\n",
       "      <td>0</td>\n",
       "      <td>1</td>\n",
       "      <td>0</td>\n",
       "      <td>1</td>\n",
       "    </tr>\n",
       "    <tr>\n",
       "      <th>25</th>\n",
       "      <td>No Urgent Place</td>\n",
       "      <td>Friend(s)</td>\n",
       "      <td>Sunny</td>\n",
       "      <td>80</td>\n",
       "      <td>10AM</td>\n",
       "      <td>Carry out &amp; Take away</td>\n",
       "      <td>2h</td>\n",
       "      <td>Male</td>\n",
       "      <td>21</td>\n",
       "      <td>Single</td>\n",
       "      <td>0</td>\n",
       "      <td>Bachelors degree</td>\n",
       "      <td>Architecture &amp; Engineering</td>\n",
       "      <td>$62500 - $74999</td>\n",
       "      <td>NaN</td>\n",
       "      <td>never</td>\n",
       "      <td>less1</td>\n",
       "      <td>4~8</td>\n",
       "      <td>4~8</td>\n",
       "      <td>less1</td>\n",
       "      <td>1</td>\n",
       "      <td>1</td>\n",
       "      <td>0</td>\n",
       "      <td>0</td>\n",
       "      <td>1</td>\n",
       "      <td>0</td>\n",
       "    </tr>\n",
       "    <tr>\n",
       "      <th>...</th>\n",
       "      <td>...</td>\n",
       "      <td>...</td>\n",
       "      <td>...</td>\n",
       "      <td>...</td>\n",
       "      <td>...</td>\n",
       "      <td>...</td>\n",
       "      <td>...</td>\n",
       "      <td>...</td>\n",
       "      <td>...</td>\n",
       "      <td>...</td>\n",
       "      <td>...</td>\n",
       "      <td>...</td>\n",
       "      <td>...</td>\n",
       "      <td>...</td>\n",
       "      <td>...</td>\n",
       "      <td>...</td>\n",
       "      <td>...</td>\n",
       "      <td>...</td>\n",
       "      <td>...</td>\n",
       "      <td>...</td>\n",
       "      <td>...</td>\n",
       "      <td>...</td>\n",
       "      <td>...</td>\n",
       "      <td>...</td>\n",
       "      <td>...</td>\n",
       "      <td>...</td>\n",
       "    </tr>\n",
       "    <tr>\n",
       "      <th>12665</th>\n",
       "      <td>No Urgent Place</td>\n",
       "      <td>Friend(s)</td>\n",
       "      <td>Sunny</td>\n",
       "      <td>30</td>\n",
       "      <td>10AM</td>\n",
       "      <td>Carry out &amp; Take away</td>\n",
       "      <td>2h</td>\n",
       "      <td>Male</td>\n",
       "      <td>26</td>\n",
       "      <td>Single</td>\n",
       "      <td>0</td>\n",
       "      <td>Bachelors degree</td>\n",
       "      <td>Sales &amp; Related</td>\n",
       "      <td>$75000 - $87499</td>\n",
       "      <td>NaN</td>\n",
       "      <td>never</td>\n",
       "      <td>never</td>\n",
       "      <td>1~3</td>\n",
       "      <td>4~8</td>\n",
       "      <td>1~3</td>\n",
       "      <td>1</td>\n",
       "      <td>0</td>\n",
       "      <td>0</td>\n",
       "      <td>0</td>\n",
       "      <td>1</td>\n",
       "      <td>1</td>\n",
       "    </tr>\n",
       "    <tr>\n",
       "      <th>12672</th>\n",
       "      <td>Home</td>\n",
       "      <td>Alone</td>\n",
       "      <td>Sunny</td>\n",
       "      <td>80</td>\n",
       "      <td>6PM</td>\n",
       "      <td>Carry out &amp; Take away</td>\n",
       "      <td>2h</td>\n",
       "      <td>Male</td>\n",
       "      <td>26</td>\n",
       "      <td>Single</td>\n",
       "      <td>0</td>\n",
       "      <td>Bachelors degree</td>\n",
       "      <td>Sales &amp; Related</td>\n",
       "      <td>$75000 - $87499</td>\n",
       "      <td>NaN</td>\n",
       "      <td>never</td>\n",
       "      <td>never</td>\n",
       "      <td>1~3</td>\n",
       "      <td>4~8</td>\n",
       "      <td>1~3</td>\n",
       "      <td>1</td>\n",
       "      <td>1</td>\n",
       "      <td>0</td>\n",
       "      <td>1</td>\n",
       "      <td>0</td>\n",
       "      <td>0</td>\n",
       "    </tr>\n",
       "    <tr>\n",
       "      <th>12673</th>\n",
       "      <td>Home</td>\n",
       "      <td>Alone</td>\n",
       "      <td>Sunny</td>\n",
       "      <td>30</td>\n",
       "      <td>6PM</td>\n",
       "      <td>Carry out &amp; Take away</td>\n",
       "      <td>1d</td>\n",
       "      <td>Male</td>\n",
       "      <td>26</td>\n",
       "      <td>Single</td>\n",
       "      <td>0</td>\n",
       "      <td>Bachelors degree</td>\n",
       "      <td>Sales &amp; Related</td>\n",
       "      <td>$75000 - $87499</td>\n",
       "      <td>NaN</td>\n",
       "      <td>never</td>\n",
       "      <td>never</td>\n",
       "      <td>1~3</td>\n",
       "      <td>4~8</td>\n",
       "      <td>1~3</td>\n",
       "      <td>1</td>\n",
       "      <td>0</td>\n",
       "      <td>0</td>\n",
       "      <td>0</td>\n",
       "      <td>1</td>\n",
       "      <td>0</td>\n",
       "    </tr>\n",
       "    <tr>\n",
       "      <th>12679</th>\n",
       "      <td>Home</td>\n",
       "      <td>Partner</td>\n",
       "      <td>Rainy</td>\n",
       "      <td>55</td>\n",
       "      <td>6PM</td>\n",
       "      <td>Carry out &amp; Take away</td>\n",
       "      <td>1d</td>\n",
       "      <td>Male</td>\n",
       "      <td>26</td>\n",
       "      <td>Single</td>\n",
       "      <td>0</td>\n",
       "      <td>Bachelors degree</td>\n",
       "      <td>Sales &amp; Related</td>\n",
       "      <td>$75000 - $87499</td>\n",
       "      <td>NaN</td>\n",
       "      <td>never</td>\n",
       "      <td>never</td>\n",
       "      <td>1~3</td>\n",
       "      <td>4~8</td>\n",
       "      <td>1~3</td>\n",
       "      <td>1</td>\n",
       "      <td>0</td>\n",
       "      <td>0</td>\n",
       "      <td>1</td>\n",
       "      <td>0</td>\n",
       "      <td>1</td>\n",
       "    </tr>\n",
       "    <tr>\n",
       "      <th>12680</th>\n",
       "      <td>Work</td>\n",
       "      <td>Alone</td>\n",
       "      <td>Rainy</td>\n",
       "      <td>55</td>\n",
       "      <td>7AM</td>\n",
       "      <td>Carry out &amp; Take away</td>\n",
       "      <td>1d</td>\n",
       "      <td>Male</td>\n",
       "      <td>26</td>\n",
       "      <td>Single</td>\n",
       "      <td>0</td>\n",
       "      <td>Bachelors degree</td>\n",
       "      <td>Sales &amp; Related</td>\n",
       "      <td>$75000 - $87499</td>\n",
       "      <td>NaN</td>\n",
       "      <td>never</td>\n",
       "      <td>never</td>\n",
       "      <td>1~3</td>\n",
       "      <td>4~8</td>\n",
       "      <td>1~3</td>\n",
       "      <td>1</td>\n",
       "      <td>0</td>\n",
       "      <td>0</td>\n",
       "      <td>0</td>\n",
       "      <td>1</td>\n",
       "      <td>1</td>\n",
       "    </tr>\n",
       "  </tbody>\n",
       "</table>\n",
       "<p>2393 rows × 26 columns</p>\n",
       "</div>"
      ],
      "text/plain": [
       "           destination  passanger weather  temperature  time  \\\n",
       "2      No Urgent Place  Friend(s)   Sunny           80  10AM   \n",
       "6      No Urgent Place  Friend(s)   Sunny           55   2PM   \n",
       "8      No Urgent Place     Kid(s)   Sunny           80  10AM   \n",
       "19                Work      Alone   Sunny           80   7AM   \n",
       "25     No Urgent Place  Friend(s)   Sunny           80  10AM   \n",
       "...                ...        ...     ...          ...   ...   \n",
       "12665  No Urgent Place  Friend(s)   Sunny           30  10AM   \n",
       "12672             Home      Alone   Sunny           80   6PM   \n",
       "12673             Home      Alone   Sunny           30   6PM   \n",
       "12679             Home    Partner   Rainy           55   6PM   \n",
       "12680             Work      Alone   Rainy           55   7AM   \n",
       "\n",
       "                      coupon expiration  gender age      maritalStatus  \\\n",
       "2      Carry out & Take away         2h  Female  21  Unmarried partner   \n",
       "6      Carry out & Take away         1d  Female  21  Unmarried partner   \n",
       "8      Carry out & Take away         2h  Female  21  Unmarried partner   \n",
       "19     Carry out & Take away         2h  Female  21  Unmarried partner   \n",
       "25     Carry out & Take away         2h    Male  21             Single   \n",
       "...                      ...        ...     ...  ..                ...   \n",
       "12665  Carry out & Take away         2h    Male  26             Single   \n",
       "12672  Carry out & Take away         2h    Male  26             Single   \n",
       "12673  Carry out & Take away         1d    Male  26             Single   \n",
       "12679  Carry out & Take away         1d    Male  26             Single   \n",
       "12680  Carry out & Take away         1d    Male  26             Single   \n",
       "\n",
       "       has_children                 education                  occupation  \\\n",
       "2                 1  Some college - no degree                  Unemployed   \n",
       "6                 1  Some college - no degree                  Unemployed   \n",
       "8                 1  Some college - no degree                  Unemployed   \n",
       "19                1  Some college - no degree                  Unemployed   \n",
       "25                0          Bachelors degree  Architecture & Engineering   \n",
       "...             ...                       ...                         ...   \n",
       "12665             0          Bachelors degree             Sales & Related   \n",
       "12672             0          Bachelors degree             Sales & Related   \n",
       "12673             0          Bachelors degree             Sales & Related   \n",
       "12679             0          Bachelors degree             Sales & Related   \n",
       "12680             0          Bachelors degree             Sales & Related   \n",
       "\n",
       "                income  car    Bar CoffeeHouse CarryAway RestaurantLessThan20  \\\n",
       "2      $37500 - $49999  NaN  never       never       NaN                  4~8   \n",
       "6      $37500 - $49999  NaN  never       never       NaN                  4~8   \n",
       "8      $37500 - $49999  NaN  never       never       NaN                  4~8   \n",
       "19     $37500 - $49999  NaN  never       never       NaN                  4~8   \n",
       "25     $62500 - $74999  NaN  never       less1       4~8                  4~8   \n",
       "...                ...  ...    ...         ...       ...                  ...   \n",
       "12665  $75000 - $87499  NaN  never       never       1~3                  4~8   \n",
       "12672  $75000 - $87499  NaN  never       never       1~3                  4~8   \n",
       "12673  $75000 - $87499  NaN  never       never       1~3                  4~8   \n",
       "12679  $75000 - $87499  NaN  never       never       1~3                  4~8   \n",
       "12680  $75000 - $87499  NaN  never       never       1~3                  4~8   \n",
       "\n",
       "      Restaurant20To50  toCoupon_GEQ5min  toCoupon_GEQ15min  \\\n",
       "2                  1~3                 1                  1   \n",
       "6                  1~3                 1                  1   \n",
       "8                  1~3                 1                  1   \n",
       "19                 1~3                 1                  0   \n",
       "25               less1                 1                  1   \n",
       "...                ...               ...                ...   \n",
       "12665              1~3                 1                  0   \n",
       "12672              1~3                 1                  1   \n",
       "12673              1~3                 1                  0   \n",
       "12679              1~3                 1                  0   \n",
       "12680              1~3                 1                  0   \n",
       "\n",
       "       toCoupon_GEQ25min  direction_same  direction_opp  Y  \n",
       "2                      0               0              1  1  \n",
       "6                      0               0              1  1  \n",
       "8                      0               0              1  1  \n",
       "19                     0               1              0  1  \n",
       "25                     0               0              1  0  \n",
       "...                  ...             ...            ... ..  \n",
       "12665                  0               0              1  1  \n",
       "12672                  0               1              0  0  \n",
       "12673                  0               0              1  0  \n",
       "12679                  0               1              0  1  \n",
       "12680                  0               0              1  1  \n",
       "\n",
       "[2393 rows x 26 columns]"
      ]
     },
     "execution_count": 151,
     "metadata": {},
     "output_type": "execute_result"
    }
   ],
   "source": [
    "carryAway_coupons = data[data[\"coupon\"]==\"Carry out & Take away\"]\n",
    "carryAway_coupons"
   ]
  },
  {
   "cell_type": "code",
   "execution_count": 232,
   "metadata": {
    "id": "QEsBkvIN_qRL"
   },
   "outputs": [
    {
     "data": {
      "text/plain": [
       "0.7354784788967823"
      ]
     },
     "execution_count": 232,
     "metadata": {},
     "output_type": "execute_result"
    }
   ],
   "source": [
    "(carryAway_coupons['Y']==1).sum()/len(carryAway_coupons)"
   ]
  },
  {
   "cell_type": "code",
   "execution_count": null,
   "metadata": {
    "id": "fTC2WGE3_qRL"
   },
   "outputs": [],
   "source": []
  },
  {
   "cell_type": "code",
   "execution_count": 263,
   "metadata": {
    "id": "RrqUWn7d_qRL"
   },
   "outputs": [
    {
     "data": {
      "image/png": "[encoded data removed]",
      "text/plain": [
       "<Figure size 1600x1000 with 6 Axes>"
      ]
     },
     "metadata": {},
     "output_type": "display_data"
    }
   ],
   "source": [
    "#carryAway_coupons['Y'] = pd.to_numeric(carryAway_coupons['Y'], errors='coerce')\n",
    "accepted_coupon=carryAway_coupons[carryAway_coupons[\"Y\"]==1]\n",
    "# List of features to analyze\n",
    "features = ['age','income', 'gender', 'maritalStatus', 'occupation','expiration']\n",
    "\n",
    "# Create subplots\n",
    "fig, axes = plt.subplots(2, 3, figsize=(16, 10))\n",
    "axes = axes.flatten()\n",
    "\n",
    "# Loop through each feature and plot\n",
    "for i, feature in enumerate(features):\n",
    "    group_count = accepted_coupon[feature].value_counts().sort_values(ascending=False)\n",
    "    group_count.plot(kind='bar', ax=axes[i], color='skyblue', edgecolor='black')\n",
    "    axes[i].set_title(f'Acceptanced coupons by {feature}')\n",
    "    axes[i].set_ylabel('Count')\n",
    "    axes[i].set_xlabel(feature)\n",
    "    axes[i].tick_params(axis='x', rotation=90)\n",
    "\n",
    "plt.tight_layout()\n",
    "#plt.show()\n",
    "plt.savefig('plot3.png')"
   ]
  },
  {
   "cell_type": "code",
   "execution_count": 241,
   "metadata": {
    "id": "_oykf8YP_qRL"
   },
   "outputs": [
    {
     "data": {
      "text/plain": [
       "0.7410526315789474"
      ]
     },
     "execution_count": 241,
     "metadata": {},
     "output_type": "execute_result"
    }
   ],
   "source": [
    "carryAway_coupons1 = data[data[\"coupon\"]==\"Carry out & Take away\"].copy() \n",
    "carryAway_coupons1[\"age\"] = pd.to_numeric(carryAway_coupons1[\"age\"], errors='coerce')\n",
    "filtered_carryAway_coupon1 = carryAway_coupons1[\n",
    "    (carryAway_coupons1[\"age\"] ==21)\n",
    "]\n",
    "acceptance_rate6=filtered_carryAway_coupon1[\"Y\"].sum()/len(filtered_carryAway_coupon1)\n",
    "acceptance_rate6"
   ]
  },
  {
   "cell_type": "code",
   "execution_count": 252,
   "metadata": {},
   "outputs": [
    {
     "data": {
      "text/plain": [
       "0.7786666666666666"
      ]
     },
     "execution_count": 252,
     "metadata": {},
     "output_type": "execute_result"
    }
   ],
   "source": [
    "filtered_carryAway_coupon2 = carryAway_coupons1[\n",
    "    (carryAway_coupons1[\"income\"].isin(['$25000 - $37499']))\n",
    "]\n",
    "acceptance_rate7=filtered_carryAway_coupon2[\"Y\"].sum()/len(filtered_carryAway_coupon2)\n",
    "acceptance_rate7"
   ]
  },
  {
   "cell_type": "code",
   "execution_count": 250,
   "metadata": {},
   "outputs": [
    {
     "data": {
      "text/plain": [
       "0.7126341866226259"
      ]
     },
     "execution_count": 250,
     "metadata": {},
     "output_type": "execute_result"
    }
   ],
   "source": [
    "filtered_carryAway_coupon3 = carryAway_coupons1[\n",
    "    (carryAway_coupons1[\"gender\"].isin(['Female']))\n",
    "]\n",
    "acceptance_rate8=filtered_carryAway_coupon3[\"Y\"].sum()/len(filtered_carryAway_coupon3)\n",
    "acceptance_rate8"
   ]
  },
  {
   "cell_type": "code",
   "execution_count": 253,
   "metadata": {},
   "outputs": [
    {
     "data": {
      "text/plain": [
       "0.7455156950672646"
      ]
     },
     "execution_count": 253,
     "metadata": {},
     "output_type": "execute_result"
    }
   ],
   "source": [
    "filtered_carryAway_coupon4 = carryAway_coupons1[\n",
    "    (carryAway_coupons1[\"maritalStatus\"].isin(['Single']))\n",
    "]\n",
    "acceptance_rate9=filtered_carryAway_coupon4[\"Y\"].sum()/len(filtered_carryAway_coupon4)\n",
    "acceptance_rate9"
   ]
  },
  {
   "cell_type": "code",
   "execution_count": 258,
   "metadata": {},
   "outputs": [
    {
     "data": {
      "text/plain": [
       "0.7543352601156069"
      ]
     },
     "execution_count": 258,
     "metadata": {},
     "output_type": "execute_result"
    }
   ],
   "source": [
    "filtered_carryAway_coupon5 = carryAway_coupons1[\n",
    "    (carryAway_coupons1[\"occupation\"].isin(['Unemployed']))\n",
    "]\n",
    "acceptance_rate10=filtered_carryAway_coupon5[\"Y\"].sum()/len(filtered_carryAway_coupon5)\n",
    "acceptance_rate10"
   ]
  },
  {
   "cell_type": "code",
   "execution_count": null,
   "metadata": {},
   "outputs": [],
   "source": []
  },
  {
   "cell_type": "code",
   "execution_count": null,
   "metadata": {},
   "outputs": [],
   "source": []
  },
  {
   "cell_type": "code",
   "execution_count": null,
   "metadata": {},
   "outputs": [],
   "source": []
  }
 ],
 "metadata": {
  "colab": {
   "provenance": []
  },
  "kernelspec": {
   "display_name": "Python 3 (ipykernel)",
   "language": "python",
   "name": "python3"
  },
  "language_info": {
   "codemirror_mode": {
    "name": "ipython",
    "version": 3
   },
   "file_extension": ".py",
   "mimetype": "text/x-python",
   "name": "python",
   "nbconvert_exporter": "python",
   "pygments_lexer": "ipython3",
   "version": "3.10.9"
  }
 },
 "nbformat": 4,
 "nbformat_minor": 1
}
